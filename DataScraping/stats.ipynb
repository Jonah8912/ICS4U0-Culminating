{
 "cells": [
  {
   "cell_type": "code",
   "execution_count": 21,
   "id": "0bd5da96-303d-4100-be29-8b8b969a22b1",
   "metadata": {},
   "outputs": [],
   "source": [
    "import pandas as pd\n",
    "import numpy as np\n",
    "import requests\n",
    "from io import StringIO"
   ]
  },
  {
   "cell_type": "code",
   "execution_count": 22,
   "id": "9bc60f03-8f7e-42ef-ad48-32f9e8d787f5",
   "metadata": {},
   "outputs": [],
   "source": [
    "url = \"https://fbref.com/en/comps/9/stats/Premier-League-Stats\"\n",
    "html_content = requests.get(url).text.replace('<!--', '').replace('-->', '')\n",
    "df = pd.read_html(StringIO(html_content))[2]"
   ]
  },
  {
   "cell_type": "code",
   "execution_count": 23,
   "id": "3198b9e1-3772-4ab7-89e4-91c18e5ced18",
   "metadata": {},
   "outputs": [],
   "source": [
    "df.columns = df.columns.get_level_values(1)"
   ]
  },
  {
   "cell_type": "code",
   "execution_count": 24,
   "id": "401a3f9b-0d81-4b92-a28e-fbfc2f48e1e7",
   "metadata": {},
   "outputs": [],
   "source": [
    "for index, row in df.iterrows():\n",
    "    if row['Rk'] == 'Rk':\n",
    "        df.drop(index, inplace=True)"
   ]
  },
  {
   "cell_type": "code",
   "execution_count": 25,
   "id": "3bdb9971-9b63-462a-8875-dbe0dd6578fe",
   "metadata": {},
   "outputs": [],
   "source": [
    "if \"Age\" in df.columns:\n",
    "    df[\"Age\"] = df[\"Age\"].str.split(\"-\").str[0]"
   ]
  },
  {
   "cell_type": "code",
   "execution_count": 26,
   "id": "363833f3-661d-47cc-b097-6d7eb78af1bb",
   "metadata": {},
   "outputs": [],
   "source": [
    "df = df.loc[:,~df.columns.duplicated()].copy()"
   ]
  },
  {
   "cell_type": "code",
   "execution_count": 27,
   "id": "910309ee-ae96-4d56-ba9d-b9d3b5f74b0b",
   "metadata": {},
   "outputs": [],
   "source": [
    "df.drop(df.columns[[0,10,16,20,22,23,24,25,26,27,28]], axis=1, inplace=True)"
   ]
  },
  {
   "cell_type": "code",
   "execution_count": 28,
   "id": "eebc03f9-8fd4-4d86-9ff5-33b99d3a36db",
   "metadata": {},
   "outputs": [],
   "source": [
    "df.to_csv(\"stats.csv\", index=False)"
   ]
  },
  {
   "cell_type": "code",
   "execution_count": null,
   "id": "d33e7d84-cab4-40ce-aa5c-e83b1d6b8c7e",
   "metadata": {},
   "outputs": [],
   "source": []
  }
 ],
 "metadata": {
  "kernelspec": {
   "display_name": "Python 3 (ipykernel)",
   "language": "python",
   "name": "python3"
  },
  "language_info": {
   "codemirror_mode": {
    "name": "ipython",
    "version": 3
   },
   "file_extension": ".py",
   "mimetype": "text/x-python",
   "name": "python",
   "nbconvert_exporter": "python",
   "pygments_lexer": "ipython3",
   "version": "3.12.0"
  }
 },
 "nbformat": 4,
 "nbformat_minor": 5
}
